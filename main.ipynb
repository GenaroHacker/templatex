{
  "nbformat": 4,
  "nbformat_minor": 0,
  "metadata": {
    "colab": {
      "provenance": [],
      "authorship_tag": "ABX9TyN/9sa+J+9GrB/kp16rOMKR",
      "include_colab_link": true
    },
    "kernelspec": {
      "name": "python3",
      "display_name": "Python 3"
    },
    "language_info": {
      "name": "python"
    }
  },
  "cells": [
    {
      "cell_type": "markdown",
      "metadata": {
        "id": "view-in-github",
        "colab_type": "text"
      },
      "source": [
        "<a href=\"https://colab.research.google.com/github/GenaroHacker/templatex/blob/main/main.ipynb\" target=\"_parent\"><img src=\"https://colab.research.google.com/assets/colab-badge.svg\" alt=\"Open In Colab\"/></a>"
      ]
    },
    {
      "cell_type": "code",
      "execution_count": 2,
      "metadata": {
        "cellView": "form",
        "id": "JNIEHRF_S8oX"
      },
      "outputs": [],
      "source": [
        "# @title Set Up\n",
        "%%capture\n",
        "!git clone https://github.com/GenaroHacker/templatex.git\n",
        "from templatex.director import Director\n"
      ]
    },
    {
      "cell_type": "code",
      "source": [
        "# @title Create Document\n",
        "\n",
        "# Initializing director\n",
        "d = Director()\n",
        "\n",
        "# Building the document\n",
        "d.add_section(\"Computer Text Section 1\")\n",
        "d.add_text(\"This section contains the first part of regular computer text.\")\n",
        "\n",
        "d.add_section(\"Handwriting Section 1\")\n",
        "d.draw_lines(15)\n",
        "\n",
        "d.add_section(\"Computer Text Section 2\")\n",
        "d.add_text(\"This section contains the second part of regular computer text.\")\n",
        "\n",
        "d.add_section(\"Handwriting Section 2\")\n",
        "d.draw_lines(20)\n",
        "\n",
        "d.new_page()\n",
        "\n",
        "d.add_section(\"Checklist\")\n",
        "d.add_checkboxes([\"Option one\", \"Option two\", \"Option three\"])\n",
        "\n",
        "# Finalizing document\n",
        "d.finalize_document()\n",
        "\n",
        "# Saving the document to a .tex file\n",
        "d.write_to_file('output.tex')"
      ],
      "metadata": {
        "cellView": "form",
        "id": "_M3Cyn46TcCV"
      },
      "execution_count": 4,
      "outputs": []
    }
  ]
}