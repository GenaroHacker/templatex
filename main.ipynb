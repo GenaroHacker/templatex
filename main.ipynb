{
  "nbformat": 4,
  "nbformat_minor": 0,
  "metadata": {
    "colab": {
      "provenance": [],
      "authorship_tag": "ABX9TyMtKSaMq27pSx2XG9OfxviO",
      "include_colab_link": true
    },
    "kernelspec": {
      "name": "python3",
      "display_name": "Python 3"
    },
    "language_info": {
      "name": "python"
    }
  },
  "cells": [
    {
      "cell_type": "markdown",
      "metadata": {
        "id": "view-in-github",
        "colab_type": "text"
      },
      "source": [
        "<a href=\"https://colab.research.google.com/github/GenaroHacker/templatex/blob/main/main.ipynb\" target=\"_parent\"><img src=\"https://colab.research.google.com/assets/colab-badge.svg\" alt=\"Open In Colab\"/></a>"
      ]
    },
    {
      "cell_type": "code",
      "execution_count": 8,
      "metadata": {
        "cellView": "form",
        "id": "JNIEHRF_S8oX"
      },
      "outputs": [],
      "source": [
        "# @title Set Up\n",
        "%%capture\n",
        "!git clone https://github.com/GenaroHacker/templatex.git\n",
        "from templatex.director import Director\n"
      ]
    },
    {
      "cell_type": "code",
      "source": [
        "# @title Create Document\n",
        "\n",
        "# Initializing director\n",
        "director = Director()\n",
        "\n",
        "# Building the document\n",
        "director.add_section(\"Computer Text Section 1\")\n",
        "director.add_text(\"This section contains the first part of regular computer text.\")\n",
        "\n",
        "director.add_section(\"Handwriting Section 1\")\n",
        "director.draw_lines(15)\n",
        "\n",
        "director.add_section(\"Computer Text Section 2\")\n",
        "director.add_text(\"This section contains the second part of regular computer text.\")\n",
        "\n",
        "director.add_section(\"Handwriting Section 2\")\n",
        "director.draw_lines(20)\n",
        "\n",
        "# Finalizing document\n",
        "director.finalize_document()\n",
        "\n",
        "# Saving the document to a .tex file\n",
        "director.write_to_file('output.tex')"
      ],
      "metadata": {
        "cellView": "form",
        "id": "_M3Cyn46TcCV"
      },
      "execution_count": 7,
      "outputs": []
    }
  ]
}